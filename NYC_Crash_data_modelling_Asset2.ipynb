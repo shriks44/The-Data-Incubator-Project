{
 "cells": [
  {
   "cell_type": "code",
   "execution_count": null,
   "metadata": {},
   "outputs": [],
   "source": [
    "## Vehicle crashes occur all over the world, with varying severity, traffic rules, vehicle characteristics, \n",
    "## driving behavior, weather etc., each of which play a significant role in the outcome of the crash.\n",
    "## While most of the data science applications for crash analysis have been only in advanced visualization, there is limited study of \n",
    "## developing advanced machine learning algorithms that can help predict future crashes and its severities based on several parameters.\n",
    "## The limited existing models are developed for much larger areas which may result in overfit/underfit issue.\n",
    "## Hence, 'One model fits all' is an outdated strategy and will not be beneficial in providing actionable insights to zone specific crashes which may have different parameters. \n",
    "\n",
    "## Through my project at the Data Incubator, I wish to develop an automated system which in return develops machine learning models \n",
    "## to predict future fatal or non fatal crashes for any chosen area. These models would be focussed towards very specific zones/areas/road corridors, which I term as micro-crash models.\n",
    "## The intention here is to develop custom models that are built solely on the data that is represented by that zone/area\n",
    "## rather than a much larger set. Having such area specific models through an automated system will be beneficial to a lot of state or federal\n",
    "## Department's of Transport who can have access to a tool that can deliver key actionable insights,\n",
    "## and help direct their crash preventive measures more effectively in future.\n",
    "## This can help direct their budget, initiatives, and efforts to specific locations that need the most attention.\n",
    "## Outcomes of such models can be imposing traffic regulations during peak crash hours, zones, restricitng certain category of vehicles etc.\n",
    "\n",
    "## Data availability:\n",
    "## A lot of Transportation agencies, City DOT's, Federal DOT's provide traffic and crash related open data that can be easily acquired\n",
    "## to develop this bigger idea. I wish to develop a full fledged application that can be responsive in real time and update the\n",
    "## models with live feed of additional data through pipelines whenever available. As of today, there is no such automated model development application in Transportation.\n",
    "\n",
    "# Asset 2:\n",
    "\n",
    "## By using crash data for NYC provided by City of New York at (https://data.cityofnewyork.us/Public-Safety/Motor-Vehicle-Collisions-Crashes/h9gi-nx95)\n",
    "## I have worked on developing some plots that can provide insights about the need of having micro-models \n",
    "\n"
   ]
  },
  {
   "cell_type": "code",
   "execution_count": 1,
   "metadata": {},
   "outputs": [
    {
     "name": "stderr",
     "output_type": "stream",
     "text": [
      "\n",
      "Bad key \"text.kerning_factor\" on line 4 in\n",
      "C:\\Users\\shriks44\\Anaconda3_2019\\lib\\site-packages\\matplotlib\\mpl-data\\stylelib\\_classic_test_patch.mplstyle.\n",
      "You probably need to get an updated matplotlibrc file from\n",
      "https://github.com/matplotlib/matplotlib/blob/v3.1.3/matplotlibrc.template\n",
      "or from the matplotlib source distribution\n"
     ]
    }
   ],
   "source": [
    "# We will import the needed libraries \n",
    "import numpy as np\n",
    "import pandas as pd\n",
    "import matplotlib.pyplot as plt\n",
    "import seaborn as sns"
   ]
  },
  {
   "cell_type": "code",
   "execution_count": 4,
   "metadata": {},
   "outputs": [
    {
     "name": "stdout",
     "output_type": "stream",
     "text": [
      "(1687742, 29)\n"
     ]
    }
   ],
   "source": [
    "# Read the data into a pandas data frame\n",
    "df = pd.read_csv(\"E:\\\\Data Science\\\\The_Data_Incubator\\\\Motor_Vehicle_Collisions_-_Crashes.csv\")\n",
    "print(df.shape)"
   ]
  },
  {
   "cell_type": "code",
   "execution_count": 5,
   "metadata": {},
   "outputs": [
    {
     "data": {
      "text/html": [
       "<div>\n",
       "<style scoped>\n",
       "    .dataframe tbody tr th:only-of-type {\n",
       "        vertical-align: middle;\n",
       "    }\n",
       "\n",
       "    .dataframe tbody tr th {\n",
       "        vertical-align: top;\n",
       "    }\n",
       "\n",
       "    .dataframe thead th {\n",
       "        text-align: right;\n",
       "    }\n",
       "</style>\n",
       "<table border=\"1\" class=\"dataframe\">\n",
       "  <thead>\n",
       "    <tr style=\"text-align: right;\">\n",
       "      <th></th>\n",
       "      <th>CRASH DATE</th>\n",
       "      <th>CRASH TIME</th>\n",
       "      <th>BOROUGH</th>\n",
       "      <th>ZIP CODE</th>\n",
       "      <th>LATITUDE</th>\n",
       "      <th>LONGITUDE</th>\n",
       "      <th>LOCATION</th>\n",
       "      <th>ON STREET NAME</th>\n",
       "      <th>CROSS STREET NAME</th>\n",
       "      <th>OFF STREET NAME</th>\n",
       "      <th>...</th>\n",
       "      <th>COLLISION_ID</th>\n",
       "      <th>VEHICLE TYPE CODE 1</th>\n",
       "      <th>VEHICLE TYPE CODE 2</th>\n",
       "      <th>VEHICLE TYPE CODE 3</th>\n",
       "      <th>VEHICLE TYPE CODE 4</th>\n",
       "      <th>VEHICLE TYPE CODE 5</th>\n",
       "      <th>month</th>\n",
       "      <th>pd_datetime</th>\n",
       "      <th>weekday</th>\n",
       "      <th>hour</th>\n",
       "    </tr>\n",
       "  </thead>\n",
       "  <tbody>\n",
       "    <tr>\n",
       "      <td>0</td>\n",
       "      <td>10/13/2016</td>\n",
       "      <td>11:23</td>\n",
       "      <td>MANHATTAN</td>\n",
       "      <td>10011</td>\n",
       "      <td>40.744100</td>\n",
       "      <td>-73.99565</td>\n",
       "      <td>POINT (-73.99565 40.7441)</td>\n",
       "      <td>WEST 23 STREET</td>\n",
       "      <td>7 AVENUE</td>\n",
       "      <td>NaN</td>\n",
       "      <td>...</td>\n",
       "      <td>3540699</td>\n",
       "      <td>Box Truck</td>\n",
       "      <td>Bulk Agriculture</td>\n",
       "      <td>NaN</td>\n",
       "      <td>NaN</td>\n",
       "      <td>NaN</td>\n",
       "      <td>10</td>\n",
       "      <td>2016-10-13</td>\n",
       "      <td>3</td>\n",
       "      <td>11</td>\n",
       "    </tr>\n",
       "    <tr>\n",
       "      <td>1</td>\n",
       "      <td>11/01/2016</td>\n",
       "      <td>22:10</td>\n",
       "      <td>MANHATTAN</td>\n",
       "      <td>10013</td>\n",
       "      <td>40.722584</td>\n",
       "      <td>-74.00636</td>\n",
       "      <td>POINT (-74.00636 40.722584)</td>\n",
       "      <td>VARICK STREET</td>\n",
       "      <td>CANAL STREET</td>\n",
       "      <td>NaN</td>\n",
       "      <td>...</td>\n",
       "      <td>3553200</td>\n",
       "      <td>Sedan</td>\n",
       "      <td>Sedan</td>\n",
       "      <td>NaN</td>\n",
       "      <td>NaN</td>\n",
       "      <td>NaN</td>\n",
       "      <td>11</td>\n",
       "      <td>2016-11-01</td>\n",
       "      <td>1</td>\n",
       "      <td>22</td>\n",
       "    </tr>\n",
       "    <tr>\n",
       "      <td>2</td>\n",
       "      <td>10/22/2016</td>\n",
       "      <td>20:00</td>\n",
       "      <td>NaN</td>\n",
       "      <td>NaN</td>\n",
       "      <td>40.692250</td>\n",
       "      <td>-73.81791</td>\n",
       "      <td>POINT (-73.81791 40.69225)</td>\n",
       "      <td>101 AVENUE</td>\n",
       "      <td>129 STREET</td>\n",
       "      <td>NaN</td>\n",
       "      <td>...</td>\n",
       "      <td>3544924</td>\n",
       "      <td>Sedan</td>\n",
       "      <td>Sedan</td>\n",
       "      <td>NaN</td>\n",
       "      <td>NaN</td>\n",
       "      <td>NaN</td>\n",
       "      <td>10</td>\n",
       "      <td>2016-10-22</td>\n",
       "      <td>5</td>\n",
       "      <td>20</td>\n",
       "    </tr>\n",
       "    <tr>\n",
       "      <td>3</td>\n",
       "      <td>11/03/2016</td>\n",
       "      <td>17:35</td>\n",
       "      <td>BROOKLYN</td>\n",
       "      <td>11217</td>\n",
       "      <td>40.687004</td>\n",
       "      <td>-73.97960</td>\n",
       "      <td>POINT (-73.9796 40.687004)</td>\n",
       "      <td>FLATBUSH AVENUE</td>\n",
       "      <td>3 AVENUE</td>\n",
       "      <td>NaN</td>\n",
       "      <td>...</td>\n",
       "      <td>3553668</td>\n",
       "      <td>Sedan</td>\n",
       "      <td>Bus</td>\n",
       "      <td>NaN</td>\n",
       "      <td>NaN</td>\n",
       "      <td>NaN</td>\n",
       "      <td>11</td>\n",
       "      <td>2016-11-03</td>\n",
       "      <td>3</td>\n",
       "      <td>17</td>\n",
       "    </tr>\n",
       "    <tr>\n",
       "      <td>4</td>\n",
       "      <td>10/14/2016</td>\n",
       "      <td>23:15</td>\n",
       "      <td>MANHATTAN</td>\n",
       "      <td>10034</td>\n",
       "      <td>40.869550</td>\n",
       "      <td>-73.91519</td>\n",
       "      <td>POINT (-73.91519 40.86955)</td>\n",
       "      <td>WEST 215 STREET</td>\n",
       "      <td>10 AVENUE</td>\n",
       "      <td>NaN</td>\n",
       "      <td>...</td>\n",
       "      <td>3545177</td>\n",
       "      <td>Sedan</td>\n",
       "      <td>Sedan</td>\n",
       "      <td>NaN</td>\n",
       "      <td>NaN</td>\n",
       "      <td>NaN</td>\n",
       "      <td>10</td>\n",
       "      <td>2016-10-14</td>\n",
       "      <td>4</td>\n",
       "      <td>23</td>\n",
       "    </tr>\n",
       "  </tbody>\n",
       "</table>\n",
       "<p>5 rows × 33 columns</p>\n",
       "</div>"
      ],
      "text/plain": [
       "   CRASH DATE CRASH TIME    BOROUGH ZIP CODE   LATITUDE  LONGITUDE  \\\n",
       "0  10/13/2016      11:23  MANHATTAN    10011  40.744100  -73.99565   \n",
       "1  11/01/2016      22:10  MANHATTAN    10013  40.722584  -74.00636   \n",
       "2  10/22/2016      20:00        NaN      NaN  40.692250  -73.81791   \n",
       "3  11/03/2016      17:35   BROOKLYN    11217  40.687004  -73.97960   \n",
       "4  10/14/2016      23:15  MANHATTAN    10034  40.869550  -73.91519   \n",
       "\n",
       "                      LOCATION                    ON STREET NAME  \\\n",
       "0    POINT (-73.99565 40.7441)  WEST 23 STREET                     \n",
       "1  POINT (-74.00636 40.722584)  VARICK STREET                      \n",
       "2   POINT (-73.81791 40.69225)  101 AVENUE                         \n",
       "3   POINT (-73.9796 40.687004)  FLATBUSH AVENUE                    \n",
       "4   POINT (-73.91519 40.86955)  WEST 215 STREET                    \n",
       "\n",
       "  CROSS STREET NAME OFF STREET NAME  ...  COLLISION_ID  VEHICLE TYPE CODE 1  \\\n",
       "0          7 AVENUE             NaN  ...       3540699            Box Truck   \n",
       "1      CANAL STREET             NaN  ...       3553200                Sedan   \n",
       "2        129 STREET             NaN  ...       3544924                Sedan   \n",
       "3          3 AVENUE             NaN  ...       3553668                Sedan   \n",
       "4         10 AVENUE             NaN  ...       3545177                Sedan   \n",
       "\n",
       "   VEHICLE TYPE CODE 2  VEHICLE TYPE CODE 3  VEHICLE TYPE CODE 4  \\\n",
       "0     Bulk Agriculture                  NaN                  NaN   \n",
       "1                Sedan                  NaN                  NaN   \n",
       "2                Sedan                  NaN                  NaN   \n",
       "3                  Bus                  NaN                  NaN   \n",
       "4                Sedan                  NaN                  NaN   \n",
       "\n",
       "   VEHICLE TYPE CODE 5  month  pd_datetime weekday hour  \n",
       "0                  NaN     10   2016-10-13       3   11  \n",
       "1                  NaN     11   2016-11-01       1   22  \n",
       "2                  NaN     10   2016-10-22       5   20  \n",
       "3                  NaN     11   2016-11-03       3   17  \n",
       "4                  NaN     10   2016-10-14       4   23  \n",
       "\n",
       "[5 rows x 33 columns]"
      ]
     },
     "execution_count": 5,
     "metadata": {},
     "output_type": "execute_result"
    }
   ],
   "source": [
    "## Extract the month, hour, day of week from the data\n",
    "df['month'] = pd.DatetimeIndex(df['CRASH DATE']).month\n",
    "df['pd_datetime'] = pd.to_datetime(df['CRASH DATE'])\n",
    "df['weekday'] = df['pd_datetime'].dt.dayofweek\n",
    "df['hour'] = pd.to_datetime(df['CRASH TIME']).dt.hour\n",
    "df.head()"
   ]
  },
  {
   "cell_type": "code",
   "execution_count": 19,
   "metadata": {},
   "outputs": [
    {
     "data": {
      "text/plain": [
       "Index(['CRASH DATE', 'CRASH TIME', 'BOROUGH', 'ZIP CODE', 'LATITUDE',\n",
       "       'LONGITUDE', 'LOCATION', 'ON STREET NAME', 'CROSS STREET NAME',\n",
       "       'OFF STREET NAME', 'NUMBER OF PERSONS INJURED',\n",
       "       'NUMBER OF PERSONS KILLED', 'NUMBER OF PEDESTRIANS INJURED',\n",
       "       'NUMBER OF PEDESTRIANS KILLED', 'NUMBER OF CYCLIST INJURED',\n",
       "       'NUMBER OF CYCLIST KILLED', 'NUMBER OF MOTORIST INJURED',\n",
       "       'NUMBER OF MOTORIST KILLED', 'CONTRIBUTING FACTOR VEHICLE 1',\n",
       "       'CONTRIBUTING FACTOR VEHICLE 2', 'CONTRIBUTING FACTOR VEHICLE 3',\n",
       "       'CONTRIBUTING FACTOR VEHICLE 4', 'CONTRIBUTING FACTOR VEHICLE 5',\n",
       "       'COLLISION_ID', 'VEHICLE TYPE CODE 1', 'VEHICLE TYPE CODE 2',\n",
       "       'VEHICLE TYPE CODE 3', 'VEHICLE TYPE CODE 4', 'VEHICLE TYPE CODE 5',\n",
       "       'month', 'pd_datetime', 'weekday', 'hour'],\n",
       "      dtype='object')"
      ]
     },
     "execution_count": 19,
     "metadata": {},
     "output_type": "execute_result"
    }
   ],
   "source": [
    "df.columns"
   ]
  },
  {
   "cell_type": "code",
   "execution_count": 18,
   "metadata": {},
   "outputs": [
    {
     "data": {
      "text/plain": [
       "<matplotlib.axes._subplots.AxesSubplot at 0xb914a8bbc8>"
      ]
     },
     "execution_count": 18,
     "metadata": {},
     "output_type": "execute_result"
    },
    {
     "data": {
      "image/png": "[encoded data removed]",
      "text/plain": [
       "<Figure size 1440x720 with 1 Axes>"
      ]
     },
     "metadata": {
      "needs_background": "light"
     },
     "output_type": "display_data"
    }
   ],
   "source": [
    "## Count the crashes for each Borough for every month\n",
    "df1 = df.groupby(['BOROUGH','month'])['COLLISION_ID'].count().reset_index()\n",
    "df1.columns = ['BOROUGH','Month','TOTAL_COLLISIONS']\n",
    "\n",
    "plt.figure(figsize=(20,10))\n",
    "sns.barplot(x = 'Month', y = 'TOTAL_COLLISIONS', data = df1, hue = 'BOROUGH')"
   ]
  },
  {
   "cell_type": "code",
   "execution_count": null,
   "metadata": {},
   "outputs": [],
   "source": [
    "## In the above plot it can be seen that, Brooklyn experiences the highest number of collisions as compared to other boroughs\n",
    "## where as Staten Island reports the lowest.\n",
    "## It is definitely good to know the above statistics, however this also indicates different crash statistics bheavior\n",
    "## in the 2 regions and hence a micro model at Borough level can be developed to direct efforts for crash prevention."
   ]
  },
  {
   "cell_type": "code",
   "execution_count": 28,
   "metadata": {},
   "outputs": [
    {
     "data": {
      "text/plain": [
       "<matplotlib.axes._subplots.AxesSubplot at 0xb918880e88>"
      ]
     },
     "execution_count": 28,
     "metadata": {},
     "output_type": "execute_result"
    },
    {
     "data": {
      "image/png": "[encoded data removed]",
      "text/plain": [
       "<Figure size 864x576 with 1 Axes>"
      ]
     },
     "metadata": {
      "needs_background": "light"
     },
     "output_type": "display_data"
    }
   ],
   "source": [
    "df2 = df.groupby(['BOROUGH'])['NUMBER OF PERSONS KILLED'].sum().reset_index()\n",
    "df3 = df.groupby(['BOROUGH'])['COLLISION_ID'].count().reset_index()\n",
    "#df1.columns = ['BOROUGH','Month','TOTAL_COLLISIONS']\n",
    "df2['fatality_ratio'] = df2['NUMBER OF PERSONS KILLED']/df3['COLLISION_ID']\n",
    "\n",
    "plt.figure(figsize=(12,8))\n",
    "sns.barplot(x = 'BOROUGH', y = 'fatality_ratio', data=df2)"
   ]
  },
  {
   "cell_type": "code",
   "execution_count": null,
   "metadata": {},
   "outputs": [],
   "source": [
    "## From the above plot, it can be seen that the severity of crashes in terms of fatality ratio is higher in Staten Island although its total crashes are less\n",
    "## This indicates that the micro-model for Staten Island needs to emphasize more on the factors that contributed to fatal crashes there as compared to others.\n",
    "## The above statistic also justifies that a micro-model can is essential"
   ]
  },
  {
   "cell_type": "code",
   "execution_count": 36,
   "metadata": {},
   "outputs": [
    {
     "data": {
      "text/plain": [
       "<matplotlib.axes._subplots.AxesSubplot at 0xb918303b88>"
      ]
     },
     "execution_count": 36,
     "metadata": {},
     "output_type": "execute_result"
    },
    {
     "data": {
      "image/png": "[encoded data removed]",
      "text/plain": [
       "<Figure size 864x576 with 1 Axes>"
      ]
     },
     "metadata": {
      "needs_background": "light"
     },
     "output_type": "display_data"
    }
   ],
   "source": [
    "df4 = df.groupby(['CONTRIBUTING FACTOR VEHICLE 1'])['NUMBER OF PERSONS KILLED'].sum().reset_index()\n",
    "df4.sort_values('NUMBER OF PERSONS KILLED', ascending=False, inplace=True)\n",
    "plt.figure(figsize=(12,8))\n",
    "sns.barplot(x = 'NUMBER OF PERSONS KILLED', y = 'CONTRIBUTING FACTOR VEHICLE 1', data=df4.head(20))"
   ]
  },
  {
   "cell_type": "code",
   "execution_count": null,
   "metadata": {},
   "outputs": [],
   "source": [
    "## From the above plot, it can be seen that the contributing factors in fatal crashes have varying significance. \n",
    "## As the fatality ratio for boroughs were different, it indicates that these contributing factors would carry different weights\n",
    "## in different micro models."
   ]
  }
 ],
 "metadata": {
  "kernelspec": {
   "display_name": "Python 3",
   "language": "python",
   "name": "python3"
  },
  "language_info": {
   "codemirror_mode": {
    "name": "ipython",
    "version": 3
   },
   "file_extension": ".py",
   "mimetype": "text/x-python",
   "name": "python",
   "nbconvert_exporter": "python",
   "pygments_lexer": "ipython3",
   "version": "3.7.4"
  }
 },
 "nbformat": 4,
 "nbformat_minor": 2
}
